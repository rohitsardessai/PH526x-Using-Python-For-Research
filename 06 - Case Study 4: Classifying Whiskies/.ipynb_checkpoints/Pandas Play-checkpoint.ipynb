{
 "cells": [
  {
   "cell_type": "code",
   "execution_count": 28,
   "metadata": {},
   "outputs": [
    {
     "data": {
      "text/plain": [
       "Tim    29\n",
       "Jim    31\n",
       "Pam    27\n",
       "Sam    35\n",
       "dtype: int64"
      ]
     },
     "execution_count": 28,
     "metadata": {},
     "output_type": "execute_result"
    }
   ],
   "source": [
    "import pandas as pd\n",
    "\n",
    "x = pd.Series([6,3,8,6], index = [\"q\", \"w\", \"e\", \"r\"])\n",
    "x[[\"w\", \"r\"]]\n",
    "\n",
    "age = {\"Tim\" : 29,\n",
    "      \"Jim\" : 31,\n",
    "      \"Pam\" : 27,\n",
    "      \"Sam\" : 35}\n",
    "\n",
    "x = pd.Series(age)\n",
    "x"
   ]
  },
  {
   "cell_type": "code",
   "execution_count": 29,
   "metadata": {},
   "outputs": [
    {
     "data": {
      "text/plain": [
       "0    Tim\n",
       "1    Jim\n",
       "2    Sam\n",
       "3    Pam\n",
       "Name: name, dtype: object"
      ]
     },
     "execution_count": 29,
     "metadata": {},
     "output_type": "execute_result"
    }
   ],
   "source": [
    "data = {'name' : ['Tim', 'Jim', 'Sam', 'Pam'],\n",
    "        'age' : [29, 31, 27, 35],\n",
    "        'ZIP' : ['02115', '02130', '67700', '00100']}\n",
    "\n",
    "x = pd.DataFrame(data, columns = [\"name\", \"age\", \"ZIP\"])\n",
    "x.name"
   ]
  },
  {
   "cell_type": "code",
   "execution_count": 30,
   "metadata": {},
   "outputs": [
    {
     "data": {
      "text/plain": [
       "e    8\n",
       "q    6\n",
       "r    6\n",
       "w    3\n",
       "dtype: int64"
      ]
     },
     "execution_count": 30,
     "metadata": {},
     "output_type": "execute_result"
    }
   ],
   "source": [
    "x = pd.Series([6,3,8,6], index = [\"q\", \"w\", \"e\", \"r\"])\n",
    "x.index\n",
    "sorted(x.index)\n",
    "\n",
    "x.reindex(sorted(x.index))"
   ]
  },
  {
   "cell_type": "code",
   "execution_count": 31,
   "metadata": {},
   "outputs": [
    {
     "data": {
      "text/plain": [
       "e    15.0\n",
       "q     9.0\n",
       "r    11.0\n",
       "t     NaN\n",
       "w     NaN\n",
       "dtype: float64"
      ]
     },
     "execution_count": 31,
     "metadata": {},
     "output_type": "execute_result"
    }
   ],
   "source": [
    "x = pd.Series([6,3,8,6], index = [\"q\", \"w\", \"e\", \"r\"])\n",
    "y = pd.Series([7,3,5,2], index = [\"e\", \"q\", \"r\", \"t\"])\n",
    "\n",
    "x + y"
   ]
  },
  {
   "cell_type": "code",
   "execution_count": null,
   "metadata": {},
   "outputs": [],
   "source": []
  }
 ],
 "metadata": {
  "kernelspec": {
   "display_name": "Python 3",
   "language": "python",
   "name": "python3"
  },
  "language_info": {
   "codemirror_mode": {
    "name": "ipython",
    "version": 3
   },
   "file_extension": ".py",
   "mimetype": "text/x-python",
   "name": "python",
   "nbconvert_exporter": "python",
   "pygments_lexer": "ipython3",
   "version": "3.7.6"
  }
 },
 "nbformat": 4,
 "nbformat_minor": 4
}
