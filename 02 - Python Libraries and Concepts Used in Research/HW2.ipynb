{
 "cells": [
  {
   "cell_type": "markdown",
   "metadata": {},
   "source": [
    "# Using Python for Research Homework: Week 2\n",
    "\n",
    "In this homework, we will use the tools we've covered in the past two weeks to create a tic-tac-toe (noughts and crosses) simulator and evaluate basic winning strategies."
   ]
  },
  {
   "cell_type": "markdown",
   "metadata": {},
   "source": [
    "### Exercise 1\n",
    "\n",
    "Tic-tac-toe (or noughts and crosses) is a simple strategy game in which two players take turns placing a mark on a 3x3 board, attempting to make a row, column, or diagonal of three with their mark. In this homework, we will use the tools we've covered in the past two weeks to create a tic-tac-toe simulator and evaluate basic winning strategies.\n",
    "\n",
    "In the following exercises, we will learn to create a tic-tac-toe board, place markers on the board, evaluate if either player has won, and use this to simulate two basic strategies.\n",
    "\n",
    "#### Instructions \n",
    "\n",
    "- For our tic-tac-toe board, we will use a numpy array with dimension 3 by 3. \n",
    "- Make a function `create_board()` that creates such a board with the value of each cell set to the integer `0`.\n",
    "- Call `create_board()` and store it."
   ]
  },
  {
   "cell_type": "code",
   "execution_count": 60,
   "metadata": {},
   "outputs": [],
   "source": [
    "# write your code here!\n",
    "import numpy as np\n",
    "player_check = 1\n",
    "\n",
    "def create_board():\n",
    "    global player_check\n",
    "    player_check = 2\n",
    "    return np.zeros((3,3), dtype=int)\n",
    "    \n",
    "b1 = create_board()\n"
   ]
  },
  {
   "cell_type": "markdown",
   "metadata": {},
   "source": [
    "### Exercise 2\n",
    "\n",
    "Players 1 and 2 will take turns changing values of this array from a 0 to a 1 or 2, indicating the number of the player who places a marker there.\n",
    "\n",
    "#### Instructions \n",
    "\n",
    "- Create a function `place(board, player, position)`, where:\n",
    "    - `player` is the current player (an integer 1 or 2).\n",
    "    - `position` is a tuple of length 2 specifying a desired location to place their marker.\n",
    "    - Your function should only allow the current player to place a marker on the board (change the board position to their number) if that position is empty (zero).\n",
    "- Use `create_board()` to store a board as `board`, and use `place` to have Player 1 place a marker on location `(0, 0)`."
   ]
  },
  {
   "cell_type": "code",
   "execution_count": 61,
   "metadata": {},
   "outputs": [],
   "source": [
    "# write your code here!\n",
    "\n",
    "\n",
    "\n",
    "def place(board, player, position):\n",
    "    global player_check\n",
    "    #check for player out of turn\n",
    "    if(player_check == player):\n",
    "        print(\"Not your turn\")\n",
    "        return\n",
    "    \n",
    "    \n",
    "    #place marker at position if not already taken\n",
    "    if(board[position] != 0):\n",
    "        print(\"That spot is already taken\")\n",
    "        return\n",
    "    else:\n",
    "        board[position] = player\n",
    "        player_check = player\n",
    "        \n",
    "    #print(board)\n",
    "    \n",
    "    \n",
    "place(b1, 1, (0,0))"
   ]
  },
  {
   "cell_type": "markdown",
   "metadata": {},
   "source": [
    "### Exercise 3\n",
    "\n",
    "In this exercise, we will determine which positions are available to either player for placing their marker.\n",
    "\n",
    "#### Instructions \n",
    "- Create a function `possibilities(board)` that returns a list of all positions (tuples) on the board that are not occupied (0). (Hint: `numpy.where` is a handy function that returns a list of indices that meet a condition.)\n",
    "- `board` is already defined from previous exercises. Call `possibilities(board)` to see what it returns!"
   ]
  },
  {
   "cell_type": "code",
   "execution_count": 62,
   "metadata": {},
   "outputs": [
    {
     "name": "stdout",
     "output_type": "stream",
     "text": [
      "[(0, 1), (0, 2), (1, 0), (1, 1), (1, 2), (2, 0), (2, 1), (2, 2)]\n"
     ]
    }
   ],
   "source": [
    "# write your code here!\n",
    "def possibilities(board):\n",
    "    lst = []\n",
    "    a = np.where(board == 0)\n",
    "    for i in range(len(a[0])):\n",
    "        lst.append((a[0][i],a[1][i]))\n",
    "    return lst\n",
    "\n",
    "print(possibilities(b1))"
   ]
  },
  {
   "cell_type": "markdown",
   "metadata": {},
   "source": [
    "### Exercise 4\n",
    "\n",
    "The next step is for the current player to place a marker among the available positions. In this exercise, we will select an available board position at random and place a marker there.\n",
    "\n",
    "#### Instructions \n",
    "\n",
    "- Write a function `random_place(board, player)` that places a marker for the current player at random among all the available positions (those currently set to 0).\n",
    "    - Find possible placements with `possibilities(board)`.\n",
    "    - Select one possible placement at random using `random.choice(selection)`.\n",
    "- `board` is already defined from previous exercises. Call `random_place(board, player)` to place a random marker for Player 2, and store this as board to update its value."
   ]
  },
  {
   "cell_type": "code",
   "execution_count": 63,
   "metadata": {},
   "outputs": [],
   "source": [
    "import random \n",
    "random.seed(1)\n",
    "# write your code here!\n",
    "def random_place(board, player):\n",
    "    place(board, player, random.choice(possibilities(board)))\n",
    "\n",
    "random_place(b1, 2)"
   ]
  },
  {
   "cell_type": "markdown",
   "metadata": {},
   "source": [
    "### Exercise 5\n",
    "\n",
    "We will now have both players place three markers each.\n",
    "\n",
    "#### Instructions \n",
    "\n",
    "- A new `board` is already given. Call `random_place(board, player)` to place three pieces each on board for players 1 and 2.\n",
    "- Print board to see your result."
   ]
  },
  {
   "cell_type": "code",
   "execution_count": 64,
   "metadata": {},
   "outputs": [],
   "source": [
    "random.seed(1)\n",
    "board = create_board()\n",
    "\n",
    "# write your code here!\n",
    "random_place(board, 1)\n",
    "random_place(board, 2)\n",
    "random_place(board, 1)\n",
    "random_place(board, 2)\n",
    "random_place(board, 1)\n",
    "random_place(board, 2)\n"
   ]
  },
  {
   "cell_type": "markdown",
   "metadata": {},
   "source": [
    "### Exercise 6\n",
    "\n",
    "In the next few exercises, we will make functions that check whether either player has won the game.\n",
    "\n",
    "#### Instructions \n",
    "- Make a function `row_win(board, player)` that takes the player (integer) and determines if any row consists of only their marker. \n",
    "    - Have it return `True` if this condition is met and `False` otherwise.\n",
    "- `board` is already defined from previous exercises. Call `row_win` to check if Player 1 has a complete row."
   ]
  },
  {
   "cell_type": "code",
   "execution_count": 65,
   "metadata": {},
   "outputs": [
    {
     "data": {
      "text/plain": [
       "False"
      ]
     },
     "execution_count": 65,
     "metadata": {},
     "output_type": "execute_result"
    }
   ],
   "source": [
    "# write your code here!\n",
    "def row_win(board, player):\n",
    "    lst = np.where(board == player)\n",
    "    #print(lst)\n",
    "    count = 0\n",
    "    for i in range(len(board)):\n",
    "        for j in range(len(lst[0])):\n",
    "            if lst[0][j] == i:\n",
    "                count += 1\n",
    "            if(count == len(board)):\n",
    "                return True\n",
    "        count = 0\n",
    "    return False\n",
    "\n",
    "row_win(board, 2)"
   ]
  },
  {
   "cell_type": "markdown",
   "metadata": {},
   "source": [
    "### Exercise 7\n",
    "\n",
    "In the next few exercises, we will make functions that verify if either player has won the game.\n",
    "\n",
    "#### Instructions \n",
    "- Make a function `col_win(board, player)` that takes the player (integer) and determines if any column consists of only their marker. \n",
    "    - Have it return `True` if this condition is met and `False` otherwise.\n",
    "- `board` is already defined from previous exercises. Call `col_win` to check if Player 1 has a complete row."
   ]
  },
  {
   "cell_type": "code",
   "execution_count": 66,
   "metadata": {},
   "outputs": [
    {
     "data": {
      "text/plain": [
       "False"
      ]
     },
     "execution_count": 66,
     "metadata": {},
     "output_type": "execute_result"
    }
   ],
   "source": [
    "# write your code here! \n",
    "def col_win(board, player):\n",
    "    lst = np.where(board == player)\n",
    "    #print(lst)\n",
    "    count = 0\n",
    "    for i in range(len(board)):\n",
    "        for j in range(len(lst[1])):\n",
    "            if lst[1][j] == i:\n",
    "                count += 1\n",
    "            if(count == len(board)):\n",
    "                return True\n",
    "        count = 0\n",
    "    return False\n",
    "\n",
    "col_win(board, 1)"
   ]
  },
  {
   "cell_type": "markdown",
   "metadata": {},
   "source": [
    "### Exercise 8\n",
    "\n",
    "In the next few exercises, we will make functions that verify if either player has won the game.\n",
    "\n",
    "#### Instructions \n",
    "- Finally, create a function `diag_win(board, player)` that tests if either diagonal of the board consists of only their marker. Have it return `True` if this condition is met, and `False` otherwise.\n",
    "- `board` has been slightly modified from a previous exercise. Call `diag_win` to check if Player 2 has a complete diagonal."
   ]
  },
  {
   "cell_type": "code",
   "execution_count": 67,
   "metadata": {},
   "outputs": [
    {
     "data": {
      "text/plain": [
       "True"
      ]
     },
     "execution_count": 67,
     "metadata": {},
     "output_type": "execute_result"
    }
   ],
   "source": [
    "board[1,1] = 2\n",
    "\n",
    "# write your code here!\n",
    "def diag_win(board, player):\n",
    "    if board[1][1] != player:\n",
    "        return False\n",
    "    if (board[0][0] == player and board[2][2] == player) or (board[0][2] == player and board[2][0] == player):\n",
    "        return True\n",
    "    else:\n",
    "        return False\n",
    "    \n",
    "diag_win(board, 2)"
   ]
  },
  {
   "cell_type": "markdown",
   "metadata": {},
   "source": [
    "### Exercise 9\n",
    "\n",
    "In the next few exercises, we will make functions that check whether either player has won the game.\n",
    "\n",
    "#### Instructions \n",
    "- Create a function `evaluate(board)` that uses `row_win`, `col_win`, and `diag_win` functions for both players. If one of them has won, return that player's number. If the board is full but no one has won, return -1. Otherwise, return 0.\n",
    "- `board` is already defined from previous exercises. Call evaluate to see if either player has won the game yet."
   ]
  },
  {
   "cell_type": "code",
   "execution_count": 68,
   "metadata": {},
   "outputs": [
    {
     "data": {
      "text/plain": [
       "2"
      ]
     },
     "execution_count": 68,
     "metadata": {},
     "output_type": "execute_result"
    }
   ],
   "source": [
    "def evaluate(board):\n",
    "    winner = 0\n",
    "    for player in [1, 2]:\n",
    "        # add your code here!\n",
    "        if row_win(board, player) or col_win(board, player) or diag_win(board, player):\n",
    "            winner = player\n",
    "    if np.all(board != 0) and winner == 0:\n",
    "        winner = -1\n",
    "    return winner\n",
    "\n",
    "evaluate(board)"
   ]
  },
  {
   "cell_type": "markdown",
   "metadata": {},
   "source": [
    "### Exercise 10\n",
    "\n",
    "In this exercise, we will use all the functions we have made to simulate an entire game.\n",
    "\n",
    "#### Instructions \n",
    "\n",
    "- `create_board()`, `random_place(board, player)`, and `evaluate(board)` have been created in previous exercises. Create a function `play_game()` that:\n",
    "    - Creates a board.\n",
    "    - Alternates taking turns between two players (beginning with Player 1), placing a marker during each turn.\n",
    "    - Evaluates the board for a winner after each placement.\n",
    "    - Continues the game until one player wins (returning 1 or 2 to reflect the winning player), or the game is a draw (returning -1).\n",
    "- Call play_game 1000 times, and store the results of the game in a list called `results`."
   ]
  },
  {
   "cell_type": "code",
   "execution_count": 109,
   "metadata": {},
   "outputs": [
    {
     "name": "stdout",
     "output_type": "stream",
     "text": [
      "591\n"
     ]
    },
    {
     "data": {
      "image/png": "[encoded data removed]",
      "text/plain": [
       "<Figure size 432x288 with 1 Axes>"
      ]
     },
     "metadata": {
      "needs_background": "light"
     },
     "output_type": "display_data"
    }
   ],
   "source": [
    "random.seed(1)\n",
    "\n",
    "import matplotlib.pyplot as plt\n",
    "\n",
    "# write your code here! \n",
    "results = []\n",
    "def play_game():\n",
    "    board = create_board()\n",
    "    player = 1\n",
    "    keep_play = True\n",
    "    while keep_play:\n",
    "        random_place(board, player)\n",
    "        if player == 1:\n",
    "            player = 2\n",
    "        elif player == 2:\n",
    "            player = 1\n",
    "        if evaluate(board) != 0:\n",
    "            keep_play = False\n",
    "    return evaluate(board)\n",
    "\n",
    "for i in range(1000):\n",
    "    results.append(play_game())\n",
    "    \n",
    "for n, i in enumerate(results): #replace -1 with 0 to make the plot look better\n",
    "    if i == -1:\n",
    "        results[n] = 0\n",
    "        \n",
    "print(results.count(1))\n",
    "\n",
    "weights = np.ones_like(results) / (len(results))\n",
    "plt.hist(results, bins = 3, weights=weights)  # `density=False` would make counts\n",
    "plt.ylabel('Probability')\n",
    "plt.xlabel('Data')\n",
    "plt.show()"
   ]
  },
  {
   "cell_type": "markdown",
   "metadata": {},
   "source": [
    "#### Exercise 11\n",
    "\n",
    "In the previous exercise, we see that when guessing at random, it's better to go first, as expected. Let's see if Player 1 can improve their strategy. \n",
    "\n",
    "#### Instructions \n",
    "- Create a function `play_strategic_game()`, where Player 1 always starts with the middle square, and otherwise both players place their markers randomly.\n",
    "- Call `play_strategic_game` 1000 times."
   ]
  },
  {
   "cell_type": "code",
   "execution_count": 110,
   "metadata": {},
   "outputs": [
    {
     "name": "stdout",
     "output_type": "stream",
     "text": [
      "716\n"
     ]
    },
    {
     "data": {
      "image/png": "[encoded data removed]",
      "text/plain": [
       "<Figure size 432x288 with 1 Axes>"
      ]
     },
     "metadata": {
      "needs_background": "light"
     },
     "output_type": "display_data"
    }
   ],
   "source": [
    "random.seed(1)\n",
    "\n",
    "# write your code here\n",
    "results2 = []\n",
    "def play_strategic_game():\n",
    "    board = create_board()\n",
    "    place(board, 1, (1,1))\n",
    "    player = 2\n",
    "    keep_play = True\n",
    "    while keep_play:\n",
    "        random_place(board, player)\n",
    "        if player == 1:\n",
    "            player = 2\n",
    "        elif player == 2:\n",
    "            player = 1\n",
    "        if evaluate(board) != 0:\n",
    "            keep_play = False\n",
    "    return evaluate(board)\n",
    "\n",
    "\n",
    "for i in range(1000):\n",
    "    results2.append(play_strategic_game())\n",
    "    \n",
    "for n, i in enumerate(results2): #replace -1 with 0 to make the plot look better\n",
    "    if i == -1:\n",
    "        results2[n] = 0\n",
    "        \n",
    "print(results2.count(1))\n",
    "\n",
    "weights = np.ones_like(results2) / (len(results2))\n",
    "plt.hist(results2, bins = 3, weights=weights)  # `density=False` would make counts\n",
    "plt.ylabel('Probability')\n",
    "plt.xlabel('Data')\n",
    "plt.show()"
   ]
  }
 ],
 "metadata": {
  "kernelspec": {
   "display_name": "Python 3",
   "language": "python",
   "name": "python3"
  },
  "language_info": {
   "codemirror_mode": {
    "name": "ipython",
    "version": 3
   },
   "file_extension": ".py",
   "mimetype": "text/x-python",
   "name": "python",
   "nbconvert_exporter": "python",
   "pygments_lexer": "ipython3",
   "version": "3.7.6"
  }
 },
 "nbformat": 4,
 "nbformat_minor": 2
}
