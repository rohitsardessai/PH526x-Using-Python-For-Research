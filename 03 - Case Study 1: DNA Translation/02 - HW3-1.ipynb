{
 "cells": [
  {
   "cell_type": "markdown",
   "metadata": {},
   "source": [
    "# Using Python for Research Homework: Week 3, Case Study 1\n",
    "\n",
    "A cipher is a secret code for a language.  In this case study, we will explore a cipher that is reported by contemporary Greek historians to have been used by Julius Caesar to send secret messages to generals during times of war."
   ]
  },
  {
   "cell_type": "markdown",
   "metadata": {},
   "source": [
    "### Exercise 1\n",
    "\n",
    "A cipher is a secret code for a language. In this case study, we will explore a cipher that is reported by contemporary Greek historians to have been used by Julius Caesar to send secret messages to generals during times of war.\n",
    "\n",
    "The Caesar cipher shifts each letter of a message to another letter in the alphabet located a fixed distance from the original letter. If our encryption key were `1`, we would shift `h` to the next letter `i`, `i` to the next letter `j`, and so on. If we reach the end of the alphabet, which for us is the space character, we simply loop back to `a`. To decode the message, we make a similar shift, except we move the same number of steps backwards in the alphabet.\n",
    "\n",
    "Over the next five exercises, we will create our own Caesar cipher, as well as a message decoder for this cipher. In this exercise, we will define the alphabet used in the cipher.\n",
    "\n",
    "#### Instructions\n",
    "- The `string` library has been imported. Create a string called `alphabet` consisting of the space character `' '` followed by (concatenated with) the lowercase letters. Note that we're only using the lowercase letters in this exercise."
   ]
  },
  {
   "cell_type": "code",
   "execution_count": 4,
   "metadata": {},
   "outputs": [
    {
     "data": {
      "text/plain": [
       "' abcdefghijklmnopqrstuvwxyz'"
      ]
     },
     "execution_count": 4,
     "metadata": {},
     "output_type": "execute_result"
    }
   ],
   "source": [
    "import string\n",
    "# write your code here!\n",
    "alphabet = \" \" + string.ascii_lowercase\n",
    "alphabet"
   ]
  },
  {
   "cell_type": "markdown",
   "metadata": {},
   "source": [
    "### Exercise 2 \n",
    "\n",
    "In this exercise, we will define a dictionary that specifies the index of each character in `alphabet`.\n",
    "\n",
    "#### Instructions \n",
    "- `alphabet` has already defined in the last exercise. Create a dictionary with keys consisting of the characters in alphabet and values consisting of the numbers from 0 to 26.\n",
    "- Store this as `positions`."
   ]
  },
  {
   "cell_type": "code",
   "execution_count": 62,
   "metadata": {},
   "outputs": [
    {
     "data": {
      "text/plain": [
       "'c'"
      ]
     },
     "execution_count": 62,
     "metadata": {},
     "output_type": "execute_result"
    }
   ],
   "source": [
    "# write your code here!\n",
    "positions = {}\n",
    "for i in range(27):\n",
    "    positions[alphabet[i]] = i\n",
    "positions[\"n\"]\n",
    "\n",
    "positions_inv = {}\n",
    "temp = list(positions.items()) \n",
    "\n",
    "for i in range(len(positions)):\n",
    "    positions_inv[temp[i][1]] = temp[i][0]\n",
    "    \n",
    "positions_inv[3]"
   ]
  },
  {
   "cell_type": "markdown",
   "metadata": {},
   "source": [
    "### Exercise 3\n",
    "\n",
    "In this exercise, we will encode a message with a Caesar cipher.\n",
    "\n",
    "#### Instructions \n",
    "\n",
    "- `alphabet` and `positions` have already been defined in previous exercises. Use `positions` to create an encoded message based on message where each character in message has been shifted forward by 1 position, as defined by positions.\n",
    "- **Note that you can ensure the result remains within 0-26 using result % 27**\n",
    "- Store this as `encoded_message`."
   ]
  },
  {
   "cell_type": "code",
   "execution_count": 51,
   "metadata": {},
   "outputs": [
    {
     "data": {
      "text/plain": [
       "'ijanzaobnfajtadbftbs'"
      ]
     },
     "execution_count": 51,
     "metadata": {},
     "output_type": "execute_result"
    }
   ],
   "source": [
    "message = \"hi my name is caesar\"\n",
    "# write your code here!\n",
    "encoded_message = \"\"\n",
    "encryption_key = 1\n",
    "\n",
    "for i in range(len(message)):\n",
    "    new_pos = positions[message[i]] + encryption_key\n",
    "    if(new_pos > 26):\n",
    "        new_pos = 0\n",
    "    encoded_message += positions_inv[new_pos]\n",
    "    \n",
    "encoded_message"
   ]
  },
  {
   "cell_type": "markdown",
   "metadata": {},
   "source": [
    "### Exercise 4\n",
    "\n",
    "In this exercise, we will define a function that encodes a message with any given encryption key.\n",
    "\n",
    "#### Instructions \n",
    "- `alphabet`, `position` and `message` remain defined from previous exercises. Define a function `encoding` that takes a message as input as well as an int encryption key `key` to encode a message with the Caesar cipher by shifting each letter in message by key positions.\n",
    "- Your function should return a string consisting of these encoded letters.\n",
    "- Use `encoding` to encode message using `key = 3` and save the result as `encoded_message`.\n",
    "Print `encoded_message`."
   ]
  },
  {
   "cell_type": "code",
   "execution_count": 64,
   "metadata": {},
   "outputs": [
    {
     "data": {
      "text/plain": [
       "'klcpacqdphclvcfdhvdu'"
      ]
     },
     "execution_count": 64,
     "metadata": {},
     "output_type": "execute_result"
    }
   ],
   "source": [
    "# write your code here \n",
    "def encoding(message, key):\n",
    "    encoded_message = \"\"\n",
    "    for i in range(len(message)):\n",
    "        new_pos = positions[message[i]] + key\n",
    "        if(new_pos > 26):\n",
    "            new_pos = new_pos - 27\n",
    "        encoded_message += positions_inv[new_pos]\n",
    "    return encoded_message\n",
    "\n",
    "encoded_message = encoding(message, 3)\n",
    "encoded_message"
   ]
  },
  {
   "cell_type": "markdown",
   "metadata": {},
   "source": [
    "### Exercise 5\n",
    "\n",
    "In this exercise, we will decode an encoded message.\n",
    "\n",
    "#### Instructions \n",
    "- Use `encoding` to decode `encoded_message`.\n",
    "- Store your encoded message as `decoded_message`.\n",
    "- Print `decoded_message`. Does this recover your original message?"
   ]
  },
  {
   "cell_type": "code",
   "execution_count": 66,
   "metadata": {},
   "outputs": [
    {
     "data": {
      "text/plain": [
       "'hi my name is caesar'"
      ]
     },
     "execution_count": 66,
     "metadata": {},
     "output_type": "execute_result"
    }
   ],
   "source": [
    "# write your code here!\n",
    "def decoding(message, key):\n",
    "    decoded_message = \"\"\n",
    "    for i in range(len(message)):\n",
    "        new_pos = positions[message[i]] - key\n",
    "        if(new_pos < 0):\n",
    "            new_pos = 27 + new_pos\n",
    "        decoded_message += positions_inv[new_pos]\n",
    "    return decoded_message\n",
    "    \n",
    "decoding(encoded_message, 3)"
   ]
  }
 ],
 "metadata": {
  "kernelspec": {
   "display_name": "Python 3",
   "language": "python",
   "name": "python3"
  },
  "language_info": {
   "codemirror_mode": {
    "name": "ipython",
    "version": 3
   },
   "file_extension": ".py",
   "mimetype": "text/x-python",
   "name": "python",
   "nbconvert_exporter": "python",
   "pygments_lexer": "ipython3",
   "version": "3.7.6"
  }
 },
 "nbformat": 4,
 "nbformat_minor": 2
}
